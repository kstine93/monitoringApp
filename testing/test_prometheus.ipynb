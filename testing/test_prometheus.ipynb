{
 "cells": [
  {
   "cell_type": "markdown",
   "metadata": {},
   "source": [
    "Other resources:\n",
    "- https://itnext.io/prometheus-building-a-custom-prometheus-exporter-in-python-988908327600\n",
    "- https://matthewzhaocc.com/building-a-custom-prometheus-exporter-in-python-6491d4cdcef3"
   ]
  },
  {
   "cell_type": "markdown",
   "metadata": {},
   "source": [
    "## Always-up Metrics Endpoint:\n",
    "\n",
    "This code hosts Prometheus-compatible dummy metrics on the localhost. These can then be queried by Prometheus (if Prometheus can access the localhost).\n",
    "The purpose of this is to test that Prometheus is able to reach these metrics and parse / analyse them correctly."
   ]
  },
  {
   "cell_type": "code",
   "execution_count": 1,
   "metadata": {},
   "outputs": [],
   "source": [
    "import time\n",
    "import random\n",
    "from os import path\n",
    "import yaml\n",
    "from prometheus_client.core import GaugeMetricFamily, REGISTRY, CounterMetricFamily\n",
    "from prometheus_client import start_http_server\n",
    "totalRandomNumber = 0\n",
    "class RandomNumberCollector(object):\n",
    "    def __init__(self):\n",
    "        pass\n",
    "    def collect(self):\n",
    "        gauge = GaugeMetricFamily(\"random_number\", \"A random number generator, I have no better idea\", labels=[\"randomNum\"])\n",
    "        gauge.add_metric(['random_num'], random.randint(1, 20))\n",
    "        yield gauge\n",
    "        count = CounterMetricFamily(\"random_number_2\", \"A random number 2.0\", labels=['randomNum'])\n",
    "        global totalRandomNumber\n",
    "        totalRandomNumber += random.randint(1,30)\n",
    "        count.add_metric(['random_num'], totalRandomNumber)\n",
    "        yield count\n",
    "\n",
    "#======================================\n",
    "if __name__ == \"__main__\":\n",
    "    port = 9000\n",
    "    start_http_server(port)\n",
    "    REGISTRY.register(RandomNumberCollector())\n",
    "    while True: \n",
    "        # period between collection\n",
    "        time.sleep(1)\n"
   ]
  },
  {
   "cell_type": "markdown",
   "metadata": {},
   "source": [
    "## Python Pushgateway:\n",
    "\n",
    "This code is a Python-based exporter of Prometheus-compatible metrics designed to work with the Prometheus \"Push Gateway\".\n",
    "The Prometheus Push Gateway is a separate service that integrates with Prometheus to allow metrics to be *pushed* to Prometheus rather than queried by Prometeus.\n",
    "\n",
    "https://prometheus.github.io/client_python/exporting/pushgateway/"
   ]
  },
  {
   "cell_type": "code",
   "execution_count": 12,
   "metadata": {},
   "outputs": [],
   "source": [
    "from prometheus_client import CollectorRegistry, Gauge, push_to_gateway\n",
    "from prometheus_client.exposition import basic_auth_handler\n",
    "\n",
    "url = \"https://bi-monitoring.mydomain.com/pushgateway\"\n",
    "\n",
    "def my_auth_handler(url, method, timeout, headers, data):\n",
    "    username = \"admin\"\n",
    "    password = \"<< PROMETHEUS PUSHGATEWAY BASIC AUTH PASSWORD HERE >>\"\n",
    "    return basic_auth_handler(url, method, timeout, headers, data, username, password)\n",
    "\n",
    "registry = CollectorRegistry()\n",
    "metrics = [\n",
    "    {\n",
    "        \"name\":\"errors_jira_integration_script\",\n",
    "        \"documentation\":\"The number of errors recorded in the Jira Integration script\",\n",
    "        \"observation\":0\n",
    "    },\n",
    "    {\n",
    "        \"name\":\"warnings_jira_integration_script\",\n",
    "        \"documentation\":\"The number of warnings recorded in the Jira Integration script\",\n",
    "        \"observation\":0\n",
    "    }\n",
    "]\n",
    "\n",
    "for met in metrics:\n",
    "    g = Gauge(name=met['name'],documentation=met['documentation'],registry=registry)\n",
    "    g.set(met['observation'])\n",
    "    push_to_gateway(url, job='jira-integration', registry=registry, handler=my_auth_handler)"
   ]
  },
  {
   "cell_type": "code",
   "execution_count": 1,
   "metadata": {},
   "outputs": [],
   "source": [
    "from prometheus_client import CollectorRegistry, Gauge, push_to_gateway\n",
    "from prometheus_client.exposition import basic_auth_handler\n",
    "\n",
    "url = \"https://bi-monitoring.mydomain.com/pushgateway\"\n",
    "\n",
    "def my_auth_handler(url, method, timeout, headers, data):\n",
    "    username = \"admin\"\n",
    "    password = \"<< PROMETHEUS PUSHGATEWAY BASIC AUTH PASSWORD HERE >>\"\n",
    "    return basic_auth_handler(url, method, timeout, headers, data, username, password)\n",
    "\n",
    "registry = CollectorRegistry()\n",
    "metrics = [\n",
    "    {\n",
    "        \"name\":\"errors_git_repo_migrator\",\n",
    "        \"documentation\":\"Last reported number of errors from the Git Repo Migrator batch script\",\n",
    "        \"observation\":0\n",
    "    }\n",
    "]\n",
    "\n",
    "for met in metrics:\n",
    "    g = Gauge(name=met['name'],documentation=met['documentation'],registry=registry)\n",
    "    g.set(met['observation'])\n",
    "    push_to_gateway(url, job='git-repo-migrator', registry=registry, handler=my_auth_handler)"
   ]
  }
 ],
 "metadata": {
  "kernelspec": {
   "display_name": "venv",
   "language": "python",
   "name": "python3"
  },
  "language_info": {
   "codemirror_mode": {
    "name": "ipython",
    "version": 3
   },
   "file_extension": ".py",
   "mimetype": "text/x-python",
   "name": "python",
   "nbconvert_exporter": "python",
   "pygments_lexer": "ipython3",
   "version": "3.11.4"
  },
  "orig_nbformat": 4
 },
 "nbformat": 4,
 "nbformat_minor": 2
}
